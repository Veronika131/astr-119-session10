{
 "cells": [
  {
   "cell_type": "code",
   "execution_count": null,
   "metadata": {},
   "outputs": [],
   "source": [
    "%matplotlib inline\n",
    "import numpy as np\n",
    "import matplotlib.pyplot as plt"
   ]
  },
  {
   "cell_type": "markdown",
   "metadata": {},
   "source": [
    "## Define a function for taking an integral"
   ]
  },
  {
   "cell_type": "code",
   "execution_count": null,
   "metadata": {},
   "outputs": [],
   "source": [
    "def func(x):\n",
    "    a = 1.01\n",
    "    b = -3.04\n",
    "    c = 2.07\n",
    "    return a*x**2 + b*x + c"
   ]
  },
  {
   "cell_type": "markdown",
   "metadata": {},
   "source": [
    "## Define it's integral so we know the right answer"
   ]
  },
  {
   "cell_type": "code",
   "execution_count": null,
   "metadata": {},
   "outputs": [],
   "source": [
    "def func_integral(x):\n",
    "    a = 1.01\n",
    "    b = -3.04\n",
    "    c = 2.07\n",
    "    return (a*x**3)/3. + (b*x**2)/2. + c*x"
   ]
  },
  {
   "cell_type": "markdown",
   "metadata": {},
   "source": [
    "## Define the core of the trapezoid method"
   ]
  },
  {
   "cell_type": "code",
   "execution_count": null,
   "metadata": {},
   "outputs": [],
   "source": [
    "def trapezoid_core(f,x,h):\n",
    "    return 0.5*h*(f(x+h) + f(x))"
   ]
  },
  {
   "cell_type": "markdown",
   "metadata": {},
   "source": [
    "## Define a wrapper function to perform trapezoid method"
   ]
  },
  {
   "cell_type": "code",
   "execution_count": null,
   "metadata": {},
   "outputs": [],
   "source": [
    "def trapezoid_method(f,a,b,N):\n",
    "    # f == function to integrate\n",
    "    # a == lower limit of integration\n",
    "    # b == upper limit of integration\n",
    "    # N == number of functoin evaluations to use\n",
    "    # note the number of chunks will be N-1\n",
    "    # so if N is odd, then we don't need to adjust the \n",
    "    # last segment\n",
    "    \n",
    "    # define x values to perform trapezoid rule\n",
    "    x = np.linspace(a,b,N)\n",
    "    h = x[1]-x[0]\n",
    "    \n",
    "    # define the value of the integral\n",
    "    Fint = 0.0\n",
    "    \n",
    "    # perform the integral using the trapezoid method\n",
    "    for i in range(0,len(x)-1,1):    # giving it range from 0 to n-2 inclusive, in 1 spaces\n",
    "        Fint += trapezoid_core(f,x[i],h)    # use f and x[i] in trapezoid core\n",
    "        # print(i,i+1,x[i],x[i]+h,x[-2],x[-1])\n",
    "        \n",
    "    # return the answer\n",
    "    return Fint\n"
   ]
  },
  {
   "cell_type": "markdown",
   "metadata": {},
   "source": [
    "## Define the core of the Simpson's Method"
   ]
  },
  {
   "cell_type": "code",
   "execution_count": null,
   "metadata": {},
   "outputs": [],
   "source": [
    "def simpson_core(f,x,h):   # little h is width of each of th little chunks\n",
    "    return h*( f(x) + 4*f(x+h) + f(x+2*h))/3."
   ]
  },
  {
   "cell_type": "markdown",
   "metadata": {},
   "source": [
    "## Define a wrapper function to perform Simpson's Method"
   ]
  },
  {
   "cell_type": "code",
   "execution_count": null,
   "metadata": {},
   "outputs": [],
   "source": [
    "def simpsons_method(f,a,b,N):\n",
    "    # f == function to integrate\n",
    "    # a == lower limit of integration\n",
    "    # b == upper limit of integration\n",
    "    # N == number of functoin evaluations to use\n",
    "    # note the number of chunks will be N-1 intervals b/w those function evaluations\n",
    "    # so if N is odd, then we don't need to adjust the \n",
    "    # last segment\n",
    "    \n",
    "    # define x values to perform simpsons rule\n",
    "    x = np.linspace(a,b,N)\n",
    "    h = x[1]-x[0]\n",
    "    \n",
    "    # define the value of the integral\n",
    "    Fint = 0.0\n",
    "    \n",
    "    # perform the integral using simpson's method\n",
    "    for i in range(0, len(x)-2,2):       # goint from 0 to n-2 means from 0 to n-3 inclusive\n",
    "        Fint += simpson_core(f,x[i],h)   # in two chunk steps\n",
    "\n",
    "       \n",
    "    # apply simpson's rule over the last interval if N is even\n",
    "    if((N%2)==0):\n",
    "        Fint += simpson_core(f, x[-2],0.5*h)\n",
    "    \n",
    "        # print(i,i+2,x[i],x[i]+h,x[i]+2*h,x[-2],x[-1])\n",
    "        \n",
    "    return Fint"
   ]
  },
  {
   "cell_type": "markdown",
   "metadata": {},
   "source": [
    "## Define the Romberg Integration core"
   ]
  },
  {
   "cell_type": "code",
   "execution_count": null,
   "metadata": {},
   "outputs": [],
   "source": [
    "def romberg_core(f,a,b,i):\n",
    "    \n",
    "    # we need the difference b-a, entire width of interval we are integarting\n",
    "    h = b-a\n",
    "    \n",
    "    # and the increment between new func evals, dh - delta h\n",
    "    dh = h/2.**(i)\n",
    "    \n",
    "    # we need the cofactor, a number that apperas in front of the other terms(fraction)\n",
    "    K = h/2.**(i+1)\n",
    "    \n",
    "    # and the function evaluations \n",
    "    M = 0.0\n",
    "    for j in range(2**i):           # from zero 2^i\n",
    "        M += f(a + 0.5*dh + j*dh)   # dh is the offset between midpoint functions, half the interval is the offset \n",
    "        \n",
    "    # return the answer\n",
    "    return K*M"
   ]
  },
  {
   "cell_type": "markdown",
   "metadata": {},
   "source": [
    "## Define a wrapper function to perform Romberg Integration"
   ]
  },
  {
   "cell_type": "code",
   "execution_count": null,
   "metadata": {},
   "outputs": [],
   "source": [
    "# f is function\n",
    "# a,b, are limits of integration \n",
    "# tol is tolerance\n",
    "\n",
    "def romberg_integration(f,a,b,tol):\n",
    "    \n",
    "    # define an integration variable\n",
    "    i = 0\n",
    "    \n",
    "    # define a maximum number of iterations\n",
    "    imax = 1000\n",
    "    \n",
    "    # define an error estimate, set to a large value\n",
    "    # some error delta, takes care of case if someone passes wrong value, it allows\n",
    "    # function to start iterating\n",
    "    delta = 100.0 * np.fabs(tol)\n",
    "    \n",
    "    # set a narray of integral answers because we need all the successive answers we\n",
    "    # got prior to i^th iteration\n",
    "    I = np.zeros(imax,dtype=float)\n",
    "    \n",
    "    # get the zero'th romberg iteration\n",
    "    I[0] = 0.5*(b-a)*(f(a) + f(b))\n",
    "    \n",
    "    # I is set to 0, so iterate by 1\n",
    "    i += 1\n",
    "    \n",
    "    # iterate until delta is less than tolerance\n",
    "    while(delta>tol):\n",
    "        \n",
    "        # find this romber iteration\n",
    "        I[i] = 0.5*I[i-1] + romberg_core(f,a,b,i)\n",
    "        \n",
    "        # compute the new fractional error estimate\n",
    "        delta = np.fabs( (I[i]-I[i-1]/I[i]) )\n",
    "        \n",
    "        print(i, I[i], I[i-1], delta)\n",
    "        \n",
    "        if(delta>tol):\n",
    "            #iterate\n",
    "            i+=1\n",
    "            \n",
    "            # if we've reached the maximum iterations\n",
    "            if (i>imax):\n",
    "                print(\"Max iterations reached.\")\n",
    "                raise StopIteration('Stopping iterations after ',i)\n",
    "                \n",
    "    # return the answer\n",
    "    return I[i]\n",
    "\n"
   ]
  },
  {
   "cell_type": "markdown",
   "metadata": {},
   "source": [
    "## Find out the answer"
   ]
  },
  {
   "cell_type": "code",
   "execution_count": null,
   "metadata": {},
   "outputs": [],
   "source": [
    "# we took the indefinite integral evaluated at 1 and 0\n",
    "Answer = func_integral(1)-func_integral(0)\n",
    "print(Answer)\n",
    "\n",
    "print(\"Trapezoid\")\n",
    "print(trapezoid_method(func,0,1,10))   # integral from 0 to 1 in steps 10\n",
    "\n",
    "print(\"Simson's Method\")\n",
    "print(simpsons_method(func,0,1,10))\n",
    "\n",
    "print(\"Romberg\")\n",
    "tolerance = 1.0e-6\n",
    "RI = romberg_integration(func,0,1,tolerance)\n",
    "print(RI, (RI-Answer)/Answer, tolerance) "
   ]
  },
  {
   "cell_type": "code",
   "execution_count": null,
   "metadata": {},
   "outputs": [],
   "source": []
  },
  {
   "cell_type": "code",
   "execution_count": null,
   "metadata": {},
   "outputs": [],
   "source": []
  }
 ],
 "metadata": {
  "kernelspec": {
   "display_name": "Python 3",
   "language": "python",
   "name": "python3"
  },
  "language_info": {
   "codemirror_mode": {
    "name": "ipython",
    "version": 3
   },
   "file_extension": ".py",
   "mimetype": "text/x-python",
   "name": "python",
   "nbconvert_exporter": "python",
   "pygments_lexer": "ipython3",
   "version": "3.6.5"
  }
 },
 "nbformat": 4,
 "nbformat_minor": 2
}
